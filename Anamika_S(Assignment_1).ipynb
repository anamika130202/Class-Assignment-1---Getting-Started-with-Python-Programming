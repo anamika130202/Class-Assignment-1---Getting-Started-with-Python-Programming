{
  "nbformat": 4,
  "nbformat_minor": 0,
  "metadata": {
    "colab": {
      "name": "Anamika S(Assignment 1).ipynb",
      "provenance": [],
      "authorship_tag": "ABX9TyM+eTDGHeJUWwF0So9IMY03",
      "include_colab_link": true
    },
    "kernelspec": {
      "name": "python3",
      "display_name": "Python 3"
    }
  },
  "cells": [
    {
      "cell_type": "markdown",
      "metadata": {
        "id": "view-in-github",
        "colab_type": "text"
      },
      "source": [
        "<a href=\"https://colab.research.google.com/github/anamika130202/Class-Assignment-1---Getting-Started-with-Python-Programming/blob/master/Anamika_S(Assignment_1).ipynb\" target=\"_parent\"><img src=\"https://colab.research.google.com/assets/colab-badge.svg\" alt=\"Open In Colab\"/></a>"
      ]
    },
    {
      "cell_type": "code",
      "metadata": {
        "id": "lPSDH115XVSx",
        "colab_type": "code",
        "colab": {
          "base_uri": "https://localhost:8080/",
          "height": 68
        },
        "outputId": "e32aa498-890b-4ccc-dff5-0ba9a63efd53"
      },
      "source": [
        "a=input(\"Enter the first string:\")\n",
        "b=input(\"Enter the second string:\")\n",
        "if(a==b):\n",
        "   print(\"The two strings are same\")\n",
        "else:\n",
        "   print(\"The two strings are different\")"
      ],
      "execution_count": 5,
      "outputs": [
        {
          "output_type": "stream",
          "text": [
            "Enter the first string:Anamika\n",
            "Enter the second string:anamika\n",
            "The two strings are different\n"
          ],
          "name": "stdout"
        }
      ]
    },
    {
      "cell_type": "code",
      "metadata": {
        "id": "BSxS3vVPXdG5",
        "colab_type": "code",
        "colab": {
          "base_uri": "https://localhost:8080/",
          "height": 68
        },
        "outputId": "c11f3e48-13d5-48d8-f81c-e5c021334ef5"
      },
      "source": [
        "a=int(input(\"Enter the first number:\"))\n",
        "b=int(input(\"Enter the second number:\"))\n",
        "sum=a+b\n",
        "print(sum)"
      ],
      "execution_count": 6,
      "outputs": [
        {
          "output_type": "stream",
          "text": [
            "Enter the first number:24\n",
            "Enter the second number:56\n",
            "80\n"
          ],
          "name": "stdout"
        }
      ]
    },
    {
      "cell_type": "code",
      "metadata": {
        "id": "Mag4T-I4W_Ne",
        "colab_type": "code",
        "colab": {
          "base_uri": "https://localhost:8080/",
          "height": 51
        },
        "outputId": "b8ec3fe2-aaf3-42f6-d917-030be890a70c"
      },
      "source": [
        "num=int(input(\"Enter the number:\"))\n",
        "sqrt=num**0.5\n",
        "print(sqrt)"
      ],
      "execution_count": 4,
      "outputs": [
        {
          "output_type": "stream",
          "text": [
            "Enter the number:625\n",
            "25.0\n"
          ],
          "name": "stdout"
        }
      ]
    },
    {
      "cell_type": "code",
      "metadata": {
        "id": "WEpnWh-bXJmF",
        "colab_type": "code",
        "colab": {
          "base_uri": "https://localhost:8080/",
          "height": 85
        },
        "outputId": "e80d2394-2eb9-4fd6-acaf-dfca04fdfa4c"
      },
      "source": [
        "a=float(input(\"Enter the length of first side:\"))\n",
        "b=float(input(\"Enter the length of second side:\"))\n",
        "c=float(input(\"Enter the length of third side:\"))\n",
        "s=(a+b+c)/2\n",
        "area=(s*(s-a)*(s-b)*(s-c))**0.5\n",
        "print('The area of the triangle is %0.2f'%area)"
      ],
      "execution_count": 7,
      "outputs": [
        {
          "output_type": "stream",
          "text": [
            "Enter the length of first side:2\n",
            "Enter the length of second side:8\n",
            "Enter the length of third side:8\n",
            "The area of the triangle is 7.94\n"
          ],
          "name": "stdout"
        }
      ]
    },
    {
      "cell_type": "code",
      "metadata": {
        "id": "TsD__xjbYOee",
        "colab_type": "code",
        "colab": {
          "base_uri": "https://localhost:8080/",
          "height": 51
        },
        "outputId": "cf718f15-323d-43c6-e563-de127c4e9c9d"
      },
      "source": [
        "celsius=float(input(\"Enter temperature in Celsius:\"))\n",
        "fahrenheit=(celsius*1.8)+32\n",
        "print('The temperature in Fahrenheit is %0.2f'%fahrenheit)"
      ],
      "execution_count": 8,
      "outputs": [
        {
          "output_type": "stream",
          "text": [
            "Enter temperature in Celsius:0\n",
            "The temperature in Fahrenheit is 32.00\n"
          ],
          "name": "stdout"
        }
      ]
    },
    {
      "cell_type": "code",
      "metadata": {
        "id": "ZTXisSpmYXeO",
        "colab_type": "code",
        "colab": {
          "base_uri": "https://localhost:8080/",
          "height": 51
        },
        "outputId": "6d5141ee-2102-4601-cb80-d82b48318579"
      },
      "source": [
        "num=float(input(\"Enter the number:\"))\n",
        "if num>0:\n",
        "   print(\"Positive number\")\n",
        "elif num==0:\n",
        "   print(\"Zero\")\n",
        "else:\n",
        "   print(\"Negative number\")"
      ],
      "execution_count": 9,
      "outputs": [
        {
          "output_type": "stream",
          "text": [
            "Enter the number:-34\n",
            "Negative number\n"
          ],
          "name": "stdout"
        }
      ]
    },
    {
      "cell_type": "code",
      "metadata": {
        "id": "Pp0JqPntYhad",
        "colab_type": "code",
        "colab": {
          "base_uri": "https://localhost:8080/",
          "height": 85
        },
        "outputId": "976381bc-cf8a-4542-9bef-5052ec31a7d8"
      },
      "source": [
        "a=float(input(\"Enter first number:\"))\n",
        "b=float(input(\"Enter second number:\"))\n",
        "c=float(input(\"Enter third number:\"))\n",
        "if (a>b) and (a>c):\n",
        "    large=a\n",
        "elif (b>a) and (b>c):\n",
        "    large=b\n",
        "else:\n",
        "    large=c\n",
        "print(\"The largest number is\",large)"
      ],
      "execution_count": 10,
      "outputs": [
        {
          "output_type": "stream",
          "text": [
            "Enter first number:24\n",
            "Enter second number:56\n",
            "Enter third number:18\n",
            "The largest number is 56.0\n"
          ],
          "name": "stdout"
        }
      ]
    },
    {
      "cell_type": "code",
      "metadata": {
        "id": "0W-IKTrDYwOA",
        "colab_type": "code",
        "colab": {
          "base_uri": "https://localhost:8080/",
          "height": 119
        },
        "outputId": "10977e82-009f-421c-8e94-1f9f1ba240dc"
      },
      "source": [
        "a=str(input(\"Enter your name:\"))\n",
        "b=str(input(\"Enter your address:\"))\n",
        "c=str(input(\"Enter your number:\"))\n",
        "print(\"Your name is:\",a)\n",
        "print(\"Your address is:\",b)\n",
        "print(\"Your number is:\",c)\n"
      ],
      "execution_count": 13,
      "outputs": [
        {
          "output_type": "stream",
          "text": [
            "Enter your name:Anamika\n",
            "Enter your address:ABC123\n",
            "Enter your number:9876543210\n",
            "Your name is: Anamika\n",
            "Your address is: ABC123\n",
            "Your number is: 9876543210\n"
          ],
          "name": "stdout"
        }
      ]
    },
    {
      "cell_type": "code",
      "metadata": {
        "id": "htnhtM40Z2O2",
        "colab_type": "code",
        "colab": {
          "base_uri": "https://localhost:8080/",
          "height": 163
        },
        "outputId": "c94791e2-b366-4e50-b487-9aaf10ed37a0"
      },
      "source": [
        "print(\"Your name is:\",name)\n"
      ],
      "execution_count": 14,
      "outputs": [
        {
          "output_type": "error",
          "ename": "NameError",
          "evalue": "ignored",
          "traceback": [
            "\u001b[0;31m---------------------------------------------------------------------------\u001b[0m",
            "\u001b[0;31mNameError\u001b[0m                                 Traceback (most recent call last)",
            "\u001b[0;32m<ipython-input-14-8c8bb80c513e>\u001b[0m in \u001b[0;36m<module>\u001b[0;34m()\u001b[0m\n\u001b[0;32m----> 1\u001b[0;31m \u001b[0mprint\u001b[0m\u001b[0;34m(\u001b[0m\u001b[0;34m\"Your name is:\"\u001b[0m\u001b[0;34m,\u001b[0m\u001b[0mname\u001b[0m\u001b[0;34m)\u001b[0m\u001b[0;34m\u001b[0m\u001b[0;34m\u001b[0m\u001b[0m\n\u001b[0m",
            "\u001b[0;31mNameError\u001b[0m: name 'name' is not defined"
          ]
        }
      ]
    },
    {
      "cell_type": "code",
      "metadata": {
        "id": "_mJTpDoaaFa7",
        "colab_type": "code",
        "colab": {
          "base_uri": "https://localhost:8080/",
          "height": 34
        },
        "outputId": "be23bfc8-1312-4a74-ec8e-985b32ba3443"
      },
      "source": [
        "name=\"Anamika\"\n",
        "print(\"Your name is:\",name)"
      ],
      "execution_count": 15,
      "outputs": [
        {
          "output_type": "stream",
          "text": [
            "Your name is: Anamika\n"
          ],
          "name": "stdout"
        }
      ]
    },
    {
      "cell_type": "code",
      "metadata": {
        "id": "l08K1j6aaOAa",
        "colab_type": "code",
        "colab": {
          "base_uri": "https://localhost:8080/",
          "height": 68
        },
        "outputId": "399d8400-3ea7-4c1a-aa24-dac8ef100ba1"
      },
      "source": [
        "width=int(input(\"Enter the width:\"))\n",
        "height=int(input(\"Enter the height:\"))\n",
        "area=width*height\n",
        "print(\"The area is:\",area,\"square units\")\n"
      ],
      "execution_count": 17,
      "outputs": [
        {
          "output_type": "stream",
          "text": [
            "Enter the width:11\n",
            "Enter the height:4\n",
            "The area is: 44 square units\n"
          ],
          "name": "stdout"
        }
      ]
    },
    {
      "cell_type": "code",
      "metadata": {
        "id": "r9DUwT9ZdKHD",
        "colab_type": "code",
        "colab": {
          "base_uri": "https://localhost:8080/",
          "height": 68
        },
        "outputId": "0293c899-0805-4170-ab15-9619681cd32b"
      },
      "source": [
        "base=int(input(\"Enter the base length:\"))\n",
        "height=int(input(\"Enter the height:\"))\n",
        "area=(base*height)/2\n",
        "print(\"The area is:\",area,\"square units\")\n"
      ],
      "execution_count": 19,
      "outputs": [
        {
          "output_type": "stream",
          "text": [
            "Enter the base length:12\n",
            "Enter the height:15\n",
            "The area is: 90.0 square units\n"
          ],
          "name": "stdout"
        }
      ]
    },
    {
      "cell_type": "code",
      "metadata": {
        "id": "x8md0m6IdmlS",
        "colab_type": "code",
        "colab": {
          "base_uri": "https://localhost:8080/",
          "height": 51
        },
        "outputId": "b4017200-543f-415a-c6cb-797f32ac94be"
      },
      "source": [
        "radius=float(input(\"Enter the radius of the circle:\"))\n",
        "area=3.14*radius**2\n",
        "print(\"The area is:\",area,\"square units\")"
      ],
      "execution_count": 20,
      "outputs": [
        {
          "output_type": "stream",
          "text": [
            "Enter the radius of the circle:10\n",
            "The area is: 314.0 square units\n"
          ],
          "name": "stdout"
        }
      ]
    },
    {
      "cell_type": "code",
      "metadata": {
        "id": "jm7QnriMd9O7",
        "colab_type": "code",
        "colab": {
          "base_uri": "https://localhost:8080/",
          "height": 68
        },
        "outputId": "7bbf98ee-0b21-47ca-eede-f25aef93b637"
      },
      "source": [
        "name=str(input(\"Enter your name:\"))\n",
        "age=int(input(\"Enter your age:\"))\n",
        "print(\"Your name is\",name,\"and your age is\",str(age))\n"
      ],
      "execution_count": 24,
      "outputs": [
        {
          "output_type": "stream",
          "text": [
            "Enter your name:Anamika\n",
            "Enter your age:18\n",
            "Your name is Anamika and your age is 18\n"
          ],
          "name": "stdout"
        }
      ]
    },
    {
      "cell_type": "code",
      "metadata": {
        "id": "vNGEhZ3Je0PU",
        "colab_type": "code",
        "colab": {
          "base_uri": "https://localhost:8080/",
          "height": 51
        },
        "outputId": "2b85dd2a-5c2b-42e0-8e2c-4e1798ec7566"
      },
      "source": [
        "x=int(input(\"Enter a number\"))\n",
        "a=x+1\n",
        "print(\"The result is:\",a)"
      ],
      "execution_count": 25,
      "outputs": [
        {
          "output_type": "stream",
          "text": [
            "Enter a number23\n",
            "The result is: 24\n"
          ],
          "name": "stdout"
        }
      ]
    },
    {
      "cell_type": "code",
      "metadata": {
        "id": "crJQpimBfCg0",
        "colab_type": "code",
        "colab": {
          "base_uri": "https://localhost:8080/",
          "height": 34
        },
        "outputId": "a88f6675-0c0e-40da-9bbb-f46b711c559b"
      },
      "source": [
        "a=str(input(\"Enter your first name:\"))"
      ],
      "execution_count": 27,
      "outputs": [
        {
          "output_type": "stream",
          "text": [
            "Enter your first name:Anamika\n"
          ],
          "name": "stdout"
        }
      ]
    }
  ]
}