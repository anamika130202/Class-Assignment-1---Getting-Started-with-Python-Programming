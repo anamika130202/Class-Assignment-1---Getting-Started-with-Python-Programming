{
  "nbformat": 4,
  "nbformat_minor": 0,
  "metadata": {
    "colab": {
      "name": "Anamika S_Exercise.ipynb",
      "provenance": [],
      "authorship_tag": "ABX9TyO9Z6YNolBh7Fu0E7mxwzLV",
      "include_colab_link": true
    },
    "kernelspec": {
      "name": "python3",
      "display_name": "Python 3"
    }
  },
  "cells": [
    {
      "cell_type": "markdown",
      "metadata": {
        "id": "view-in-github",
        "colab_type": "text"
      },
      "source": [
        "<a href=\"https://colab.research.google.com/github/anamika130202/Class-Assignment-1---Getting-Started-with-Python-Programming/blob/master/Anamika_S_Exercise.ipynb\" target=\"_parent\"><img src=\"https://colab.research.google.com/assets/colab-badge.svg\" alt=\"Open In Colab\"/></a>"
      ]
    },
    {
      "cell_type": "markdown",
      "metadata": {
        "id": "OM-c27bYuAwO"
      },
      "source": [
        "# **Program to get largest number from a list**"
      ]
    },
    {
      "cell_type": "code",
      "metadata": {
        "id": "mGGh55T2vO4W",
        "outputId": "26fbd79c-2683-4c30-844b-ac52d5ff0ccb",
        "colab": {
          "base_uri": "https://localhost:8080/",
          "height": 34
        }
      },
      "source": [
        "def max_num_in_list( list ):\n",
        "    max = list[ 0 ]\n",
        "    for a in list:\n",
        "        if a > max:\n",
        "            max = a\n",
        "    return max\n",
        "print(max_num_in_list([1, 2, 3, 6, 1, 5]))"
      ],
      "execution_count": 19,
      "outputs": [
        {
          "output_type": "stream",
          "text": [
            "6\n"
          ],
          "name": "stdout"
        }
      ]
    },
    {
      "cell_type": "markdown",
      "metadata": {
        "id": "GL2o3lWgwlW3"
      },
      "source": [
        "# **Program to search an element in a list**"
      ]
    },
    {
      "cell_type": "code",
      "metadata": {
        "id": "ed4IDZ8Hwy7z",
        "outputId": "6579c72b-3367-47ff-a493-00c85a932b22",
        "colab": {
          "base_uri": "https://localhost:8080/",
          "height": 34
        }
      },
      "source": [
        "def search(dlist, item):\n",
        "    pos = 0\n",
        "    found = False\n",
        "    \n",
        "    while pos < len(dlist) and not found:\n",
        "        if dlist[pos] == item:\n",
        "            found = True\n",
        "        else:\n",
        "            pos = pos + 1\n",
        "    \n",
        "    return found, pos\n",
        "print(search([1,2,3,4,5,6,7],4))"
      ],
      "execution_count": 21,
      "outputs": [
        {
          "output_type": "stream",
          "text": [
            "(True, 3)\n"
          ],
          "name": "stdout"
        }
      ]
    },
    {
      "cell_type": "markdown",
      "metadata": {
        "id": "RipT6UVqx-jM"
      },
      "source": [
        "# **Program to sum all the items in a list**"
      ]
    },
    {
      "cell_type": "code",
      "metadata": {
        "id": "LYYWUhOtyJT1",
        "outputId": "7d22391a-d7d7-4653-b1d3-ca4675a05968",
        "colab": {
          "base_uri": "https://localhost:8080/",
          "height": 34
        }
      },
      "source": [
        "def sum_list(items):\n",
        "    sum = 0\n",
        "    for x in items:\n",
        "        sum += x\n",
        "    return sum\n",
        "print(sum_list([5,6,7,8]))"
      ],
      "execution_count": 22,
      "outputs": [
        {
          "output_type": "stream",
          "text": [
            "26\n"
          ],
          "name": "stdout"
        }
      ]
    },
    {
      "cell_type": "markdown",
      "metadata": {
        "id": "sw_OnUBj1Wak"
      },
      "source": [
        "# **Program to remove duplicates from a list**"
      ]
    },
    {
      "cell_type": "code",
      "metadata": {
        "id": "t8D753wv1nsZ",
        "outputId": "0d6e44fd-ce9f-438c-c9a2-0df1c40eeedc",
        "colab": {
          "base_uri": "https://localhost:8080/",
          "height": 34
        }
      },
      "source": [
        "def Remove(duplicate): \n",
        "\tfinal_list = [] \n",
        "\tfor num in duplicate: \n",
        "\t\tif num not in final_list: \n",
        "\t\t\tfinal_list.append(num) \n",
        "\treturn final_list \n",
        "\t\n",
        "duplicate = [10,20,30,20,10,50,60,40,80,50,40]\n",
        "print(Remove(duplicate))"
      ],
      "execution_count": 8,
      "outputs": [
        {
          "output_type": "stream",
          "text": [
            "[10, 20, 30, 50, 60, 40, 80]\n"
          ],
          "name": "stdout"
        }
      ]
    },
    {
      "cell_type": "markdown",
      "metadata": {
        "id": "9X9kpdheHLZZ"
      },
      "source": [
        "# **Program that takes two lists and returns true if they have atleast one common member**"
      ]
    },
    {
      "cell_type": "code",
      "metadata": {
        "id": "T8c0LVMbHW-S",
        "outputId": "0b9751dc-a6f7-4289-b8cd-02dcc43e492b",
        "colab": {
          "base_uri": "https://localhost:8080/",
          "height": 50
        }
      },
      "source": [
        "def lists(list1, list2):\n",
        "     result = False\n",
        "     for x in list1:\n",
        "         for y in list2:\n",
        "             if x == y:\n",
        "                 result = True\n",
        "                 return result\n",
        "print(lists([1,2,3,4,5], [5,6,7,8,9]))\n",
        "print(lists([1,2,3,4,5], [6,7,8,9]))"
      ],
      "execution_count": 23,
      "outputs": [
        {
          "output_type": "stream",
          "text": [
            "True\n",
            "None\n"
          ],
          "name": "stdout"
        }
      ]
    },
    {
      "cell_type": "markdown",
      "metadata": {
        "id": "D5Gyj41bHfZA"
      },
      "source": [
        "# **Program to append a list to the second list**"
      ]
    },
    {
      "cell_type": "code",
      "metadata": {
        "id": "t5nA12TmHo5M",
        "outputId": "bfc0bd16-49d1-4377-ba9a-035ccc2a3078",
        "colab": {
          "base_uri": "https://localhost:8080/",
          "height": 34
        }
      },
      "source": [
        "list1 = [1, 2, 3, 4]\n",
        "list2 = ['Blue', 'Green', 'Yellow']\n",
        "final_list = list1 + list2\n",
        "print(final_list)"
      ],
      "execution_count": 24,
      "outputs": [
        {
          "output_type": "stream",
          "text": [
            "[1, 2, 3, 4, 'Blue', 'Green', 'Yellow']\n"
          ],
          "name": "stdout"
        }
      ]
    },
    {
      "cell_type": "markdown",
      "metadata": {
        "id": "HV_ijVnQH25O"
      },
      "source": [
        "# **Program to check if a given number is a composite number or not**"
      ]
    },
    {
      "cell_type": "code",
      "metadata": {
        "id": "33AI5t-NH7HZ",
        "outputId": "9889f465-aab1-49c4-c3d0-c194737eb695",
        "colab": {
          "base_uri": "https://localhost:8080/",
          "height": 34
        }
      },
      "source": [
        "def composite(n): \n",
        "\n",
        "  factor=0\n",
        "  for i in range(1,n):\n",
        "    if n%i==0:\n",
        "      factor=i\n",
        "  if factor>1:\n",
        "    print ('The number is a composite number!')\n",
        "  elif n==1:\n",
        "    print ('The number 1 is neither prime nor composite!')\n",
        "  else:\n",
        "    print ('This is not a composite number!')\n",
        "composite(1)"
      ],
      "execution_count": 12,
      "outputs": [
        {
          "output_type": "stream",
          "text": [
            "The number 1 is neither prime nor composite!\n"
          ],
          "name": "stdout"
        }
      ]
    },
    {
      "cell_type": "code",
      "metadata": {
        "id": "6mfRG6kuIY8X",
        "outputId": "4fb52828-aa89-4923-d936-5e9a5f05df6d",
        "colab": {
          "base_uri": "https://localhost:8080/",
          "height": 34
        }
      },
      "source": [
        "composite(3)"
      ],
      "execution_count": 13,
      "outputs": [
        {
          "output_type": "stream",
          "text": [
            "This is not a composite number!\n"
          ],
          "name": "stdout"
        }
      ]
    },
    {
      "cell_type": "code",
      "metadata": {
        "id": "VVy_ojmPIc-u",
        "outputId": "db64657f-491b-448b-885f-49b34f54f14b",
        "colab": {
          "base_uri": "https://localhost:8080/",
          "height": 34
        }
      },
      "source": [
        "composite(4)"
      ],
      "execution_count": 14,
      "outputs": [
        {
          "output_type": "stream",
          "text": [
            "The number is a composite number!\n"
          ],
          "name": "stdout"
        }
      ]
    },
    {
      "cell_type": "code",
      "metadata": {
        "id": "NJXUd26vImo_",
        "outputId": "1025b64c-a97a-40b3-df27-a2121b9d3894",
        "colab": {
          "base_uri": "https://localhost:8080/",
          "height": 218
        }
      },
      "source": [
        "def composite(n): \n",
        "  factor=0\n",
        "  print(\"n:\",n)\n",
        "  for i in range(1,n):\n",
        "    print(\"i:\",i)\n",
        "    if n%i==0:\n",
        "      print(\"Inside if loop\")\n",
        "      factor=i\n",
        "      print(\"Factor:\",factor)\n",
        "  print(\"After for loop: Value of factor\",factor)\n",
        "  if factor>1:\n",
        "    print (n,' is a composite number!')\n",
        "  elif n==1:\n",
        "    print ('The number 1 is neither prime nor composite!')\n",
        "  else:\n",
        "    print(factor)\n",
        "    print (n,' is not a composite number!')\n",
        "composite(7)"
      ],
      "execution_count": 15,
      "outputs": [
        {
          "output_type": "stream",
          "text": [
            "n: 7\n",
            "i: 1\n",
            "Inside if loop\n",
            "Factor: 1\n",
            "i: 2\n",
            "i: 3\n",
            "i: 4\n",
            "i: 5\n",
            "i: 6\n",
            "After for loop: Value of factor 1\n",
            "1\n",
            "7  is not a composite number!\n"
          ],
          "name": "stdout"
        }
      ]
    },
    {
      "cell_type": "markdown",
      "metadata": {
        "id": "QF-lkhCUIy0I"
      },
      "source": [
        "# **Program to add two matrices using a list**"
      ]
    },
    {
      "cell_type": "code",
      "metadata": {
        "id": "iEpdFgjVI35I",
        "outputId": "ed03fdcb-e7f7-4d38-ab29-d5c74004d4a4",
        "colab": {
          "base_uri": "https://localhost:8080/",
          "height": 34
        }
      },
      "source": [
        "X = [[1,2,3],    [4 ,5,6],    [7 ,8,9]]\n",
        "Y = [[10,11,12],    [13,14,15],    [16,17,18]]\n",
        "\n",
        "result = [[0,0,0],  [0,0,0],  [0,0,0]]\n",
        "\n",
        "for i in range(len(X)):\n",
        "   for j in range(len(X[0])):\n",
        "       result[i][j] = X[i][j] + Y[i][j]\n",
        "print(result)"
      ],
      "execution_count": 25,
      "outputs": [
        {
          "output_type": "stream",
          "text": [
            "[[11, 13, 15], [17, 19, 21], [23, 25, 27]]\n"
          ],
          "name": "stdout"
        }
      ]
    },
    {
      "cell_type": "markdown",
      "metadata": {
        "id": "LHXcgwzAJAFp"
      },
      "source": [
        "# **Program to check if a string is palindrome or not**"
      ]
    },
    {
      "cell_type": "code",
      "metadata": {
        "id": "ppXG2bmrJJsQ",
        "outputId": "78a84da1-1dd3-4610-ec33-452e019612f8",
        "colab": {
          "base_uri": "https://localhost:8080/",
          "height": 35
        }
      },
      "source": [
        "def palindrome(str):\n",
        "  #print (len(str)/2)\n",
        "  #print (int(len(str)/2))\n",
        "  for i in range(0, int(len(str)/2)): \n",
        "    if str[i] != str[len(str)-i-1]:\n",
        "      return \"Not Palindrome\"\n",
        "  return \"Palindrome\"\n",
        "palindrome(\"malayalam\")"
      ],
      "execution_count": 17,
      "outputs": [
        {
          "output_type": "execute_result",
          "data": {
            "application/vnd.google.colaboratory.intrinsic+json": {
              "type": "string"
            },
            "text/plain": [
              "'Palindrome'"
            ]
          },
          "metadata": {
            "tags": []
          },
          "execution_count": 17
        }
      ]
    },
    {
      "cell_type": "markdown",
      "metadata": {
        "id": "SF98IyiSJTQr"
      },
      "source": [
        "# **Program to print multiplication table of a number**"
      ]
    },
    {
      "cell_type": "code",
      "metadata": {
        "id": "iy78qUjhJdAS",
        "outputId": "d5516e9b-a47e-42f9-ae3f-bfeb13a7b601",
        "colab": {
          "base_uri": "https://localhost:8080/",
          "height": 353
        }
      },
      "source": [
        "def table(number,start,end): \n",
        "\tfor i in range (start, end+1): \n",
        "\t\tprint (\"%d * %d = %d\" % (number, i, number * i) )\n",
        "table(9,1,20)"
      ],
      "execution_count": 26,
      "outputs": [
        {
          "output_type": "stream",
          "text": [
            "9 * 1 = 9\n",
            "9 * 2 = 18\n",
            "9 * 3 = 27\n",
            "9 * 4 = 36\n",
            "9 * 5 = 45\n",
            "9 * 6 = 54\n",
            "9 * 7 = 63\n",
            "9 * 8 = 72\n",
            "9 * 9 = 81\n",
            "9 * 10 = 90\n",
            "9 * 11 = 99\n",
            "9 * 12 = 108\n",
            "9 * 13 = 117\n",
            "9 * 14 = 126\n",
            "9 * 15 = 135\n",
            "9 * 16 = 144\n",
            "9 * 17 = 153\n",
            "9 * 18 = 162\n",
            "9 * 19 = 171\n",
            "9 * 20 = 180\n"
          ],
          "name": "stdout"
        }
      ]
    }
  ]
}