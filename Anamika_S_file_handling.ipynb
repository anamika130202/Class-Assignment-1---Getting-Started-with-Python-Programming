{
  "nbformat": 4,
  "nbformat_minor": 0,
  "metadata": {
    "colab": {
      "name": "Anamika S file handling.ipynb",
      "provenance": [],
      "authorship_tag": "ABX9TyMZsC5Z13Ka6KMkthuUKWbU",
      "include_colab_link": true
    },
    "kernelspec": {
      "name": "python3",
      "display_name": "Python 3"
    }
  },
  "cells": [
    {
      "cell_type": "markdown",
      "metadata": {
        "id": "view-in-github",
        "colab_type": "text"
      },
      "source": [
        "<a href=\"https://colab.research.google.com/github/anamika130202/Class-Assignment-1---Getting-Started-with-Python-Programming/blob/master/Anamika_S_file_handling.ipynb\" target=\"_parent\"><img src=\"https://colab.research.google.com/assets/colab-badge.svg\" alt=\"Open In Colab\"/></a>"
      ]
    },
    {
      "cell_type": "code",
      "metadata": {
        "id": "1yjdeq8YafPz"
      },
      "source": [
        "file1 = open(\"C:\\\\Users\\\\anami\\\\Documents\\\\python1.txt\",\"w\")\n",
        "file1.write(\"%d %d %d %d %d\" %(8,1,3,2,1))\n",
        "9\n",
        "file1.close()\n",
        "file1 = open(\"C:\\\\Users\\\\anami\\\\Documents\\\\python1.txt\",\"r\")\n",
        "s = file1.readline()\n",
        "s = s.split(\" \")\n",
        "t =[int(i) for i in s]\n",
        "t.sort()\n",
        "j =[]\n",
        "for b in t:\n",
        "   if b not in j:\n",
        "        j.append(b)\n",
        "file1.close()\n",
        "file1 = open(\"C:\\\\Users\\\\anami\\\\Documents\\\\python1.txt\",\"w\")\n",
        "file1.write(j)\n",
        "file1.close()\n",
        "file1 = open(\"C:\\\\Users\\\\anami\\\\Documents\\\\python1.txt\",\"r\")\n",
        "h = ','.join(str(o) for o in j)\n",
        "file1.close()\n",
        "file1 = open(\"C:\\\\Users\\\\anami\\\\Documents\\\\python1.txt\",\"w\")\n",
        "file1.write(h)\n",
        "7\n",
        "file1.close()\n",
        "def copyFile(oldFile, newFile):\n",
        " f1 = open(oldFile, \"r\")\n",
        " f2 = open(newFile, \"w\")\n",
        " while True:\n",
        "   text = f1.read(50) #text = f1.readline()\n",
        "   if text == \"\":\n",
        "     break\n",
        "   f2.write(text)\n",
        " f1.close()\n",
        " f2.close()\n",
        " return\n",
        "copyFile(\"C:\\\\Users\\\\anami\\\\Documents\\\\python1.txt\",\"C:\\\\Users\\\\anami\\\\Documents\\\\python2.txt\")\n",
        "file2 = open(\"C:\\\\Users\\\\anami\\\\Documents\\\\python2.txt\",\"r\")\n",
        "print(file2.read())\n",
        "1,2,3,8"
      ],
      "execution_count": null,
      "outputs": []
    },
    {
      "cell_type": "code",
      "metadata": {
        "id": "3b-AzDTibUfw"
      },
      "source": [
        "file1 = open(\"C:\\\\Users\\\\anami\\\\Documents\\\\python1.txt\",\"w\")\n",
        "file1.write(\"line1 \\n\\n line2\")\n",
        "file1.close()\n",
        "file1 = open(\"C:\\\\Users\\\\anami\\\\Documents\\\\python1.txt\",\"r\")\n",
        "str = file1.read()\n",
        "str1 = str.replace(\"\\n\\n\",\"\")\n",
        "print(str)\n",
        "line1\n",
        "line2\n",
        "print(str1)\n",
        "line1 line2\n",
        "file1.close()\n",
        "file1 = open(\"C:\\\\Users\\\\anami\\\\Documents\\\\python11.txt\",\"w\")\n",
        "file1.write(str1)\n",
        " \n",
        "file1.close()\n",
        "def copyFile(oldFile, newFile):\n",
        "  f1 = open(oldFile, \"r\")\n",
        "  f2 = open(newFile, \"w\")\n",
        "  while True:\n",
        "    text = f1.read(50)\n",
        "    if text == \"\":\n",
        "      break\n",
        "    f2.write(text)\n",
        "  f1.close()\n",
        "  f2.close()\n",
        "  return\n",
        " \n",
        "copyFile(\"C:\\\\Users\\\\anami\\\\Documents\\\\python1.txt\",\"C:\\\\Users\\\\anami\\\\Documents\\\\python2.txt\")\n",
        "file2 = open(\"C:\\Users\\anami\\Documents\\\\python2.txt\",\"r\")\n",
        "print(file2.read())\n",
        "line1 line2"
      ],
      "execution_count": null,
      "outputs": []
    }
  ]
}