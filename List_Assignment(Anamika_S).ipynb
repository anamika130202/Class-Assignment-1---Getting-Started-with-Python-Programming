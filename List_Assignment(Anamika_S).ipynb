{
  "nbformat": 4,
  "nbformat_minor": 0,
  "metadata": {
    "colab": {
      "name": "List Assignment(Anamika S)",
      "provenance": [],
      "authorship_tag": "ABX9TyNU9J/rfZWxKvJNk/lTvJv1",
      "include_colab_link": true
    },
    "kernelspec": {
      "name": "python3",
      "display_name": "Python 3"
    }
  },
  "cells": [
    {
      "cell_type": "markdown",
      "metadata": {
        "id": "view-in-github",
        "colab_type": "text"
      },
      "source": [
        "<a href=\"https://colab.research.google.com/github/anamika130202/Class-Assignment-1---Getting-Started-with-Python-Programming/blob/master/List_Assignment(Anamika_S).ipynb\" target=\"_parent\"><img src=\"https://colab.research.google.com/assets/colab-badge.svg\" alt=\"Open In Colab\"/></a>"
      ]
    },
    {
      "cell_type": "code",
      "metadata": {
        "id": "fLbGqH29Dzpd",
        "colab_type": "code",
        "colab": {
          "base_uri": "https://localhost:8080/",
          "height": 118
        },
        "outputId": "58e4f9ba-4e5f-4259-8166-10f7c9cc2a46"
      },
      "source": [
        "list=[1,2,3,4,5]\n",
        "count=0\n",
        "print(\"\\nThe list is:\")\n",
        "print(list)\n",
        "search=int(input(\"Enter the element to be searched\\n\"))\n",
        "for i in range(0,5):\n",
        "  if list[i]==search:\n",
        "    print(\"Element found at position\",i+1)\n",
        "    count=count+1\n",
        "if count==0:\n",
        "  print(\"Element not found\\n\")"
      ],
      "execution_count": 2,
      "outputs": [
        {
          "output_type": "stream",
          "text": [
            "\n",
            "The list is:\n",
            "[1, 2, 3, 4, 5]\n",
            "Enter the element to be searched\n",
            "5\n",
            "Element found at position 5\n"
          ],
          "name": "stdout"
        }
      ]
    }
  ]
}